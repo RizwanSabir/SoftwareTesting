{
 "cells": [
  {
   "cell_type": "code",
   "execution_count": 1,
   "metadata": {},
   "outputs": [],
   "source": [
    "##Setup\n",
    "from selenium import webdriver\n",
    "from selenium.webdriver.common.by import By\n",
    "from selenium.webdriver.common.action_chains import ActionChains\n",
    "from selenium.webdriver.common.keys import Keys\n",
    "from selenium.webdriver.support.ui import WebDriverWait\n",
    "from selenium.webdriver.support import expected_conditions as EC\n",
    "import time\n",
    "import os\n",
    "\n",
    "from selenium.webdriver.chrome.service import Service\n",
    "\n",
    "\n",
    "def setup_driver():\n",
    "    \"\"\"Setup the WebDriver.\"\"\"\n",
    "    try:\n",
    "        driver = webdriver.Chrome()\n",
    "        driver.maximize_window()\n",
    "        return driver\n",
    "    except ModuleNotFoundError as e:\n",
    "        print(\"Error: Required module not found. Make sure the SSL module and WebDriver are properly installed.\")\n",
    "        raise e\n"
   ]
  },
  {
   "cell_type": "code",
   "execution_count": 2,
   "metadata": {},
   "outputs": [
    {
     "name": "stdout",
     "output_type": "stream",
     "text": [
      "Task 1: Title verified successfully.\n"
     ]
    }
   ],
   "source": [
    "# Task 1\n",
    "\n",
    "def task_1_open_website_and_verify_title():\n",
    "    driver = setup_driver()\n",
    "    driver.get(\"https://www.google.com\")\n",
    "    assert \"Google\" in driver.title, \"Title does not match!\"\n",
    "    print(\"Task 1: Title verified successfully.\")\n",
    "    driver.quit()\n",
    "\n",
    "task_1_open_website_and_verify_title()"
   ]
  },
  {
   "cell_type": "code",
   "execution_count": 3,
   "metadata": {},
   "outputs": [
    {
     "name": "stdout",
     "output_type": "stream",
     "text": [
      "Task 2: Search performed and title verified.\n"
     ]
    }
   ],
   "source": [
    "# Task 2\n",
    "def task_2_perform_google_search():\n",
    "    driver = setup_driver()\n",
    "    driver.get(\"https://www.google.com\")\n",
    "    search_bar = driver.find_element(By.NAME, \"q\")\n",
    "    search_bar.send_keys(\"Selenium WebDriver\")\n",
    "    search_bar.send_keys(Keys.RETURN)\n",
    "    WebDriverWait(driver, 10).until(EC.title_contains(\"Selenium WebDriver\"))\n",
    "    print(\"Task 2: Search performed and title verified.\")\n",
    "    driver.quit()\n",
    "    \n",
    "task_2_perform_google_search()"
   ]
  },
  {
   "cell_type": "code",
   "execution_count": 4,
   "metadata": {},
   "outputs": [
    {
     "name": "stdout",
     "output_type": "stream",
     "text": [
      "Task 3: Login successful.\n"
     ]
    }
   ],
   "source": [
    "def task_3_fill_out_login_form():\n",
    "    driver = setup_driver()\n",
    "    driver.get(\"https://the-internet.herokuapp.com/login\")\n",
    "    driver.find_element(By.ID, \"username\").send_keys(\"tomsmith\")\n",
    "    driver.find_element(By.ID, \"password\").send_keys(\"SuperSecretPassword!\")\n",
    "    driver.find_element(By.CSS_SELECTOR, \"button[type='submit']\").click()\n",
    "    success_message = driver.find_element(By.ID, \"flash\").text\n",
    "    assert \"You logged into a secure area!\" in success_message, \"Login failed!\"\n",
    "    print(\"Task 3: Login successful.\")\n",
    "    # driver.quit()\n",
    "    \n",
    "task_3_fill_out_login_form()"
   ]
  },
  {
   "cell_type": "code",
   "execution_count": 5,
   "metadata": {},
   "outputs": [
    {
     "name": "stdout",
     "output_type": "stream",
     "text": [
      "Task 4: Alert handled successfully.\n"
     ]
    }
   ],
   "source": [
    "def task_4_handle_alerts():\n",
    "    driver = setup_driver()\n",
    "    driver.get(\"https://the-internet.herokuapp.com/javascript_alerts\")\n",
    "    driver.find_element(By.XPATH, \"//button[text()='Click for JS Alert']\").click()\n",
    "    \n",
    " \n",
    "    time.sleep(2)  \n",
    "    \n",
    "    # Handle the alert\n",
    "    alert = driver.switch_to.alert\n",
    "    alert.accept()  # Accept the alert\n",
    "    print(\"Task 4: Alert handled successfully.\")\n",
    "    \n",
    "task_4_handle_alerts()"
   ]
  },
  {
   "cell_type": "code",
   "execution_count": 6,
   "metadata": {},
   "outputs": [
    {
     "name": "stdout",
     "output_type": "stream",
     "text": [
      "Task 5: Dropdown option selected.\n"
     ]
    }
   ],
   "source": [
    "from selenium.webdriver.support.ui import Select\n",
    "def task_5_automate_dropdown():\n",
    "    driver = setup_driver()\n",
    "    driver.get(\"https://demoqa.com/select-menu\")\n",
    "    \n",
    "\n",
    "    dropdown_element = driver.find_element(By.ID, \"oldSelectMenu\")\n",
    "    \n",
    "    dropdown = Select(dropdown_element)\n",
    "    \n",
    "    dropdown.select_by_value(\"3\")  \n",
    "    \n",
    "    print(\"Task 5: Dropdown option selected.\")\n",
    "    # driver.quit()\n",
    "task_5_automate_dropdown()\n"
   ]
  },
  {
   "cell_type": "code",
   "execution_count": 9,
   "metadata": {},
   "outputs": [
    {
     "name": "stdout",
     "output_type": "stream",
     "text": [
      "Task 6: File uploaded successfully.\n"
     ]
    }
   ],
   "source": [
    "def task_6_automate_file_upload():\n",
    "    driver = setup_driver()\n",
    "    driver.get(\"https://the-internet.herokuapp.com/upload\")\n",
    "    file_input = driver.find_element(By.ID, \"file-upload\")\n",
    "    file_input.send_keys(os.path.abspath(\"Capture.PNG\"))  # Replace with the actual file path\n",
    "    driver.find_element(By.ID, \"file-submit\").click()\n",
    "    uploaded_file = driver.find_element(By.ID, \"uploaded-files\").text\n",
    "    assert \"Capture.PNG\" in uploaded_file, \"File upload failed!\"\n",
    "    print(\"Task 6: File uploaded successfully.\")\n",
    "    # driver.quit()\n",
    "\n",
    "task_6_automate_file_upload()"
   ]
  },
  {
   "cell_type": "code",
   "execution_count": 16,
   "metadata": {},
   "outputs": [
    {
     "name": "stdout",
     "output_type": "stream",
     "text": [
      "Task 7: Table data extracted.\n"
     ]
    }
   ],
   "source": [
    "def task_7_extract_data_from_table():\n",
    "    driver = setup_driver()\n",
    "    # driver.get(\"https://www.seleniumeasy.com/test/table-sort-search-demo.html\")\n",
    "    # Cannot be done because url is invalid\n",
    "    rows = driver.find_elements(By.CSS_SELECTOR, \"table tbody tr\")\n",
    "    for row in rows:\n",
    "        print(row.text)\n",
    "    print(\"Task 7: Table data extracted.\")\n",
    "    # driver.quit()\n",
    "    \n",
    "task_7_extract_data_from_table()"
   ]
  },
  {
   "cell_type": "code",
   "execution_count": 11,
   "metadata": {},
   "outputs": [
    {
     "ename": "InvalidElementStateException",
     "evalue": "Message: invalid element state\n  (Session info: chrome=131.0.6778.205)\nStacktrace:\n\tGetHandleVerifier [0x00007FF79736FB05+28789]\n\t(No symbol) [0x00007FF7972D86E0]\n\t(No symbol) [0x00007FF797175759]\n\t(No symbol) [0x00007FF7971BEBD5]\n\t(No symbol) [0x00007FF7971EF43A]\n\t(No symbol) [0x00007FF7971BC5B6]\n\t(No symbol) [0x00007FF7971EF650]\n\t(No symbol) [0x00007FF79720F654]\n\t(No symbol) [0x00007FF7971EF1E3]\n\t(No symbol) [0x00007FF7971BA938]\n\t(No symbol) [0x00007FF7971BBAA1]\n\tGetHandleVerifier [0x00007FF7976A933D+3410093]\n\tGetHandleVerifier [0x00007FF7976BE7DD+3497293]\n\tGetHandleVerifier [0x00007FF7976B2A73+3448803]\n\tGetHandleVerifier [0x00007FF797437BBB+848171]\n\t(No symbol) [0x00007FF7972E3C3F]\n\t(No symbol) [0x00007FF7972DF6E4]\n\t(No symbol) [0x00007FF7972DF87D]\n\t(No symbol) [0x00007FF7972CED49]\n\tBaseThreadInitThunk [0x00007FFE1AD97374+20]\n\tRtlUserThreadStart [0x00007FFE1BBBCC91+33]\n",
     "output_type": "error",
     "traceback": [
      "\u001b[1;31m---------------------------------------------------------------------------\u001b[0m",
      "\u001b[1;31mInvalidElementStateException\u001b[0m              Traceback (most recent call last)",
      "Cell \u001b[1;32mIn[11], line 12\u001b[0m\n\u001b[0;32m      9\u001b[0m     \u001b[38;5;28mprint\u001b[39m(\u001b[38;5;124m\"\u001b[39m\u001b[38;5;124mTask 8: Text entered in frame.\u001b[39m\u001b[38;5;124m\"\u001b[39m)\n\u001b[0;32m     10\u001b[0m     \u001b[38;5;66;03m# driver.quit()\u001b[39;00m\n\u001b[1;32m---> 12\u001b[0m \u001b[43mtask_8_handle_frames\u001b[49m\u001b[43m(\u001b[49m\u001b[43m)\u001b[49m\n",
      "Cell \u001b[1;32mIn[11], line 6\u001b[0m, in \u001b[0;36mtask_8_handle_frames\u001b[1;34m()\u001b[0m\n\u001b[0;32m      4\u001b[0m driver\u001b[38;5;241m.\u001b[39mswitch_to\u001b[38;5;241m.\u001b[39mframe(\u001b[38;5;124m\"\u001b[39m\u001b[38;5;124mmce_0_ifr\u001b[39m\u001b[38;5;124m\"\u001b[39m)\n\u001b[0;32m      5\u001b[0m editor \u001b[38;5;241m=\u001b[39m driver\u001b[38;5;241m.\u001b[39mfind_element(By\u001b[38;5;241m.\u001b[39mID, \u001b[38;5;124m\"\u001b[39m\u001b[38;5;124mtinymce\u001b[39m\u001b[38;5;124m\"\u001b[39m)\n\u001b[1;32m----> 6\u001b[0m \u001b[43meditor\u001b[49m\u001b[38;5;241;43m.\u001b[39;49m\u001b[43mclear\u001b[49m\u001b[43m(\u001b[49m\u001b[43m)\u001b[49m\n\u001b[0;32m      7\u001b[0m editor\u001b[38;5;241m.\u001b[39msend_keys(\u001b[38;5;124m\"\u001b[39m\u001b[38;5;124mHello, world!\u001b[39m\u001b[38;5;124m\"\u001b[39m)\n\u001b[0;32m      8\u001b[0m driver\u001b[38;5;241m.\u001b[39mswitch_to\u001b[38;5;241m.\u001b[39mdefault_content()\n",
      "File \u001b[1;32md:\\Software\\AnacondaInstalled\\envs\\Sele\\lib\\site-packages\\selenium\\webdriver\\remote\\webelement.py:117\u001b[0m, in \u001b[0;36mWebElement.clear\u001b[1;34m(self)\u001b[0m\n\u001b[0;32m    115\u001b[0m \u001b[38;5;28;01mdef\u001b[39;00m \u001b[38;5;21mclear\u001b[39m(\u001b[38;5;28mself\u001b[39m) \u001b[38;5;241m-\u001b[39m\u001b[38;5;241m>\u001b[39m \u001b[38;5;28;01mNone\u001b[39;00m:\n\u001b[0;32m    116\u001b[0m \u001b[38;5;250m    \u001b[39m\u001b[38;5;124;03m\"\"\"Clears the text if it's a text entry element.\"\"\"\u001b[39;00m\n\u001b[1;32m--> 117\u001b[0m     \u001b[38;5;28;43mself\u001b[39;49m\u001b[38;5;241;43m.\u001b[39;49m\u001b[43m_execute\u001b[49m\u001b[43m(\u001b[49m\u001b[43mCommand\u001b[49m\u001b[38;5;241;43m.\u001b[39;49m\u001b[43mCLEAR_ELEMENT\u001b[49m\u001b[43m)\u001b[49m\n",
      "File \u001b[1;32md:\\Software\\AnacondaInstalled\\envs\\Sele\\lib\\site-packages\\selenium\\webdriver\\remote\\webelement.py:395\u001b[0m, in \u001b[0;36mWebElement._execute\u001b[1;34m(self, command, params)\u001b[0m\n\u001b[0;32m    393\u001b[0m     params \u001b[38;5;241m=\u001b[39m {}\n\u001b[0;32m    394\u001b[0m params[\u001b[38;5;124m\"\u001b[39m\u001b[38;5;124mid\u001b[39m\u001b[38;5;124m\"\u001b[39m] \u001b[38;5;241m=\u001b[39m \u001b[38;5;28mself\u001b[39m\u001b[38;5;241m.\u001b[39m_id\n\u001b[1;32m--> 395\u001b[0m \u001b[38;5;28;01mreturn\u001b[39;00m \u001b[38;5;28;43mself\u001b[39;49m\u001b[38;5;241;43m.\u001b[39;49m\u001b[43m_parent\u001b[49m\u001b[38;5;241;43m.\u001b[39;49m\u001b[43mexecute\u001b[49m\u001b[43m(\u001b[49m\u001b[43mcommand\u001b[49m\u001b[43m,\u001b[49m\u001b[43m \u001b[49m\u001b[43mparams\u001b[49m\u001b[43m)\u001b[49m\n",
      "File \u001b[1;32md:\\Software\\AnacondaInstalled\\envs\\Sele\\lib\\site-packages\\selenium\\webdriver\\remote\\webdriver.py:384\u001b[0m, in \u001b[0;36mWebDriver.execute\u001b[1;34m(self, driver_command, params)\u001b[0m\n\u001b[0;32m    382\u001b[0m response \u001b[38;5;241m=\u001b[39m \u001b[38;5;28mself\u001b[39m\u001b[38;5;241m.\u001b[39mcommand_executor\u001b[38;5;241m.\u001b[39mexecute(driver_command, params)\n\u001b[0;32m    383\u001b[0m \u001b[38;5;28;01mif\u001b[39;00m response:\n\u001b[1;32m--> 384\u001b[0m     \u001b[38;5;28;43mself\u001b[39;49m\u001b[38;5;241;43m.\u001b[39;49m\u001b[43merror_handler\u001b[49m\u001b[38;5;241;43m.\u001b[39;49m\u001b[43mcheck_response\u001b[49m\u001b[43m(\u001b[49m\u001b[43mresponse\u001b[49m\u001b[43m)\u001b[49m\n\u001b[0;32m    385\u001b[0m     response[\u001b[38;5;124m\"\u001b[39m\u001b[38;5;124mvalue\u001b[39m\u001b[38;5;124m\"\u001b[39m] \u001b[38;5;241m=\u001b[39m \u001b[38;5;28mself\u001b[39m\u001b[38;5;241m.\u001b[39m_unwrap_value(response\u001b[38;5;241m.\u001b[39mget(\u001b[38;5;124m\"\u001b[39m\u001b[38;5;124mvalue\u001b[39m\u001b[38;5;124m\"\u001b[39m, \u001b[38;5;28;01mNone\u001b[39;00m))\n\u001b[0;32m    386\u001b[0m     \u001b[38;5;28;01mreturn\u001b[39;00m response\n",
      "File \u001b[1;32md:\\Software\\AnacondaInstalled\\envs\\Sele\\lib\\site-packages\\selenium\\webdriver\\remote\\errorhandler.py:232\u001b[0m, in \u001b[0;36mErrorHandler.check_response\u001b[1;34m(self, response)\u001b[0m\n\u001b[0;32m    230\u001b[0m         alert_text \u001b[38;5;241m=\u001b[39m value[\u001b[38;5;124m\"\u001b[39m\u001b[38;5;124malert\u001b[39m\u001b[38;5;124m\"\u001b[39m]\u001b[38;5;241m.\u001b[39mget(\u001b[38;5;124m\"\u001b[39m\u001b[38;5;124mtext\u001b[39m\u001b[38;5;124m\"\u001b[39m)\n\u001b[0;32m    231\u001b[0m     \u001b[38;5;28;01mraise\u001b[39;00m exception_class(message, screen, stacktrace, alert_text)  \u001b[38;5;66;03m# type: ignore[call-arg]  # mypy is not smart enough here\u001b[39;00m\n\u001b[1;32m--> 232\u001b[0m \u001b[38;5;28;01mraise\u001b[39;00m exception_class(message, screen, stacktrace)\n",
      "\u001b[1;31mInvalidElementStateException\u001b[0m: Message: invalid element state\n  (Session info: chrome=131.0.6778.205)\nStacktrace:\n\tGetHandleVerifier [0x00007FF79736FB05+28789]\n\t(No symbol) [0x00007FF7972D86E0]\n\t(No symbol) [0x00007FF797175759]\n\t(No symbol) [0x00007FF7971BEBD5]\n\t(No symbol) [0x00007FF7971EF43A]\n\t(No symbol) [0x00007FF7971BC5B6]\n\t(No symbol) [0x00007FF7971EF650]\n\t(No symbol) [0x00007FF79720F654]\n\t(No symbol) [0x00007FF7971EF1E3]\n\t(No symbol) [0x00007FF7971BA938]\n\t(No symbol) [0x00007FF7971BBAA1]\n\tGetHandleVerifier [0x00007FF7976A933D+3410093]\n\tGetHandleVerifier [0x00007FF7976BE7DD+3497293]\n\tGetHandleVerifier [0x00007FF7976B2A73+3448803]\n\tGetHandleVerifier [0x00007FF797437BBB+848171]\n\t(No symbol) [0x00007FF7972E3C3F]\n\t(No symbol) [0x00007FF7972DF6E4]\n\t(No symbol) [0x00007FF7972DF87D]\n\t(No symbol) [0x00007FF7972CED49]\n\tBaseThreadInitThunk [0x00007FFE1AD97374+20]\n\tRtlUserThreadStart [0x00007FFE1BBBCC91+33]\n"
     ]
    }
   ],
   "source": [
    "def task_8_handle_frames():\n",
    "    driver = setup_driver()\n",
    "    driver.get(\"https://the-internet.herokuapp.com/iframe\")\n",
    "    driver.switch_to.frame(\"mce_0_ifr\")\n",
    "    editor = driver.find_element(By.ID, \"tinymce\")\n",
    "    editor.clear()\n",
    "    editor.send_keys(\"Hello, world!\")\n",
    "    driver.switch_to.default_content()\n",
    "    print(\"Task 8: Text entered in frame.\")\n",
    "    # driver.quit()\n",
    "    \n",
    "task_8_handle_frames()"
   ]
  },
  {
   "cell_type": "code",
   "execution_count": 18,
   "metadata": {},
   "outputs": [
    {
     "name": "stdout",
     "output_type": "stream",
     "text": [
      "Task 9: Element text: \n"
     ]
    }
   ],
   "source": [
    "def task_9_handle_dynamic_elements():\n",
    "    driver = setup_driver()\n",
    "    driver.get(\"https://the-internet.herokuapp.com/dynamic_loading/1\")\n",
    "    driver.find_element(By.TAG_NAME, \"button\").click()\n",
    "    element = WebDriverWait(driver, 10).until(\n",
    "        EC.presence_of_element_located((By.ID, \"finish\"))\n",
    "    )\n",
    "    print(f\"Task 9: Element text: {element.text}\")\n",
    "    # driver.quit()\n",
    "    \n",
    "task_9_handle_dynamic_elements()"
   ]
  },
  {
   "cell_type": "code",
   "execution_count": 12,
   "metadata": {},
   "outputs": [
    {
     "name": "stdout",
     "output_type": "stream",
     "text": [
      "Task 10: Slider moved.\n"
     ]
    }
   ],
   "source": [
    "def task_10_automate_slider():\n",
    "    driver = setup_driver()\n",
    "    driver.get(\"https://demoqa.com/slider\")\n",
    "    slider = driver.find_element(By.CLASS_NAME, \"range-slider\")\n",
    "    ActionChains(driver).click_and_hold(slider).move_by_offset(50, 0).release().perform()\n",
    "    print(\"Task 10: Slider moved.\")\n",
    "    driver.quit()\n",
    "\n",
    "\n",
    "task_10_automate_slider()"
   ]
  },
  {
   "cell_type": "code",
   "execution_count": 13,
   "metadata": {},
   "outputs": [
    {
     "name": "stdout",
     "output_type": "stream",
     "text": [
      "Task 11: Hover action performed.\n"
     ]
    }
   ],
   "source": [
    "def task_11_automate_hover_actions():\n",
    "    driver = setup_driver()\n",
    "    driver.get(\"https://demoqa.com/tool-tips\")\n",
    "    hover_element = driver.find_element(By.ID, \"toolTipButton\")\n",
    "    ActionChains(driver).move_to_element(hover_element).perform()\n",
    "    print(\"Task 11: Hover action performed.\")\n",
    "    driver.quit()\n",
    "    \n",
    "task_11_automate_hover_actions()"
   ]
  },
  {
   "cell_type": "code",
   "execution_count": 15,
   "metadata": {},
   "outputs": [
    {
     "name": "stdout",
     "output_type": "stream",
     "text": [
      "Task 12: Drag and drop performed.\n"
     ]
    }
   ],
   "source": [
    "def task_12_automate_drag_and_drop():\n",
    "    driver = setup_driver()\n",
    "    driver.get(\"https://demoqa.com/droppable\")\n",
    "    source = driver.find_element(By.ID, \"draggable\")\n",
    "    target = driver.find_element(By.ID, \"droppable\")\n",
    "    ActionChains(driver).drag_and_drop(source, target).perform()\n",
    "    print(\"Task 12: Drag and drop performed.\")\n",
    "    # driver.quit()\n",
    "# Not working as the iframe is not working\n",
    "task_12_automate_drag_and_drop()"
   ]
  },
  {
   "cell_type": "code",
   "execution_count": null,
   "metadata": {},
   "outputs": [],
   "source": [
    "\n",
    "def task_13_automate_web_scraping():\n",
    "    driver = setup_driver()\n",
    "    driver.get(\"https://www.amazon.com\")\n",
    "    search_bar = driver.find_element(By.ID, \"twotabsearchtextbox\")\n",
    "    search_bar.send_keys(\"laptops\")\n",
    "    search_bar.send_keys(Keys.RETURN)\n",
    "    products = driver.find_elements(By.CSS_SELECTOR, \".s-title\")\n",
    "    for product in products[:5]:  # Print first 5 product titles\n",
    "        print(product.text)\n",
    "    print(\"Task 13: Web scraping completed.\")\n",
    "    # driver.quit()\n",
    "    \n",
    "# Not solvable because of captcha\n",
    "task_13_automate_web_scraping()"
   ]
  }
 ],
 "metadata": {
  "kernelspec": {
   "display_name": "Sele",
   "language": "python",
   "name": "python3"
  },
  "language_info": {
   "codemirror_mode": {
    "name": "ipython",
    "version": 3
   },
   "file_extension": ".py",
   "mimetype": "text/x-python",
   "name": "python",
   "nbconvert_exporter": "python",
   "pygments_lexer": "ipython3",
   "version": "3.10.15"
  }
 },
 "nbformat": 4,
 "nbformat_minor": 2
}
